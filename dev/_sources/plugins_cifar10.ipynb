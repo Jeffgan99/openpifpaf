{
  "cells": [
    {
      "cell_type": "code",
      "execution_count": null,
      "metadata": {},
      "outputs": [],
      "source": [
        "%matplotlib inline\n",
        "\n",
        "import openpifpaf\n",
        "import openpifpaf.contrib.cifar10\n",
        "\n",
        "openpifpaf.plugins.register()"
      ]
    },
    {
      "cell_type": "markdown",
      "metadata": {},
      "source": [
        "# Cifar10\n",
        "\n",
        "This plugin is part of `openpifpaf.contrib`. It demonstrates the plugin architecture.\n",
        "\n",
        "There already is a nice dataset for CIFAR10 in `torchvision`. The plugin adds a `DataModule` that uses this dataset."
      ]
    },
    {
      "cell_type": "code",
      "execution_count": null,
      "metadata": {},
      "outputs": [],
      "source": [
        "# configure \n",
        "openpifpaf.contrib.cifar10.datamodule.Cifar10.download = True\n",
        "openpifpaf.contrib.cifar10.datamodule.Cifar10.debug = True\n",
        "openpifpaf.contrib.cifar10.datamodule.Cifar10.batch_size = 1\n",
        "\n",
        "# instantiate and inspect\n",
        "datamodule = openpifpaf.contrib.cifar10.datamodule.Cifar10()\n",
        "datamodule.head_metas"
      ]
    },
    {
      "cell_type": "markdown",
      "metadata": {},
      "source": [
        "To create a network, we use factory function (`factory_from_scratch`) that takes the name of the base network `cifar10net` and the list of head metas."
      ]
    },
    {
      "cell_type": "code",
      "execution_count": null,
      "metadata": {},
      "outputs": [],
      "source": [
        "net = openpifpaf.network.factory_from_scratch('cifar10net', datamodule.head_metas)"
      ]
    },
    {
      "cell_type": "markdown",
      "metadata": {},
      "source": [
        "Configure visualization:"
      ]
    },
    {
      "cell_type": "code",
      "execution_count": null,
      "metadata": {},
      "outputs": [],
      "source": [
        "openpifpaf.visualizer.Base.all_indices = [('cifdet', 0)]\n",
        "openpifpaf.visualizer.Base.processed_image_intensity_spread = 1.0\n",
        "openpifpaf.visualizer.CifDet.show_regressions = True"
      ]
    },
    {
      "cell_type": "markdown",
      "metadata": {},
      "source": [
        "We see here that CIFAR10 is being treated as a detection dataset (`CifDet`) and has 10 categories.\n",
        "\n",
        "We can inspect the training data:"
      ]
    },
    {
      "cell_type": "code",
      "execution_count": null,
      "metadata": {
        "tags": []
      },
      "outputs": [],
      "source": [
        "with openpifpaf.show.canvas(ncols=10, nrows=5, figsize=(30, 15)) as axs:\n",
        "    train_loader_iter = iter(datamodule.train_loader())\n",
        "    for ax in axs.reshape(-1):\n",
        "        openpifpaf.visualizer.Base.common_ax = ax\n",
        "        next(train_loader_iter)"
      ]
    },
    {
      "cell_type": "code",
      "execution_count": null,
      "metadata": {},
      "outputs": [],
      "source": []
    }
  ],
  "metadata": {
    "kernelspec": {
      "display_name": "python3",
      "name": "python3"
    },
    "language_info": {
      "codemirror_mode": {
        "name": "ipython",
        "version": 3
      },
      "file_extension": ".py",
      "mimetype": "text/x-python",
      "name": "python",
      "nbconvert_exporter": "python",
      "pygments_lexer": "ipython3",
      "version": "3.8.5-final"
    }
  },
  "nbformat": 4,
  "nbformat_minor": 2
}
